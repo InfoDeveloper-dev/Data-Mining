{
 "cells": [
  {
   "cell_type": "code",
   "execution_count": 1,
   "metadata": {},
   "outputs": [
    {
     "data": {
      "text/plain": [
       "'\\nAssociation Rule means finding pattern in the data\\nThere are three major components of Apriori algorithm:\\n\\n1.) Support\\n2.) Confidence\\n3.) Lift\\n\\n'"
      ]
     },
     "execution_count": 1,
     "metadata": {},
     "output_type": "execute_result"
    }
   ],
   "source": [
    "\"\"\"\n",
    "Association Rule means finding pattern in the data\n",
    "There are three major components of Apriori algorithm:\n",
    "\n",
    "1.) Support\n",
    "2.) Confidence\n",
    "3.) Lift\n",
    "\n",
    "\"\"\""
   ]
  },
  {
   "cell_type": "code",
   "execution_count": 2,
   "metadata": {},
   "outputs": [
    {
     "data": {
      "text/plain": [
       "'\\nLet us understand the things one by one\\nSupport:-\\n         If A is Antecedent and C is consequent. IF condition is Antecedent and then condition is called consequent\\n         Support is A +C/Total \\nExample:- if we have total transaction is 10 whereas transaction for noodles and sauce is 4\\n          support is 4/10\\n          Support remains same \"if we change antecedent and consequent order\". For example if total transaction is 10\\n          and transaction for sauce and noodles is 4, support remains 4/10 = 0.4\\n\\n'"
      ]
     },
     "execution_count": 2,
     "metadata": {},
     "output_type": "execute_result"
    }
   ],
   "source": [
    "\"\"\"\n",
    "Let us understand the things one by one\n",
    "Support:-\n",
    "         If A is Antecedent and C is consequent. IF condition is Antecedent and then condition is called consequent\n",
    "         Support is A +C/Total \n",
    "Example:- if we have total transaction is 10 whereas transaction for noodles and sauce is 4\n",
    "          support is 4/10\n",
    "          Support remains same \"if we change antecedent and consequent order\". For example if total transaction is 10\n",
    "          and transaction for sauce and noodles is 4, support remains 4/10 = 0.4\n",
    "\n",
    "\"\"\""
   ]
  },
  {
   "cell_type": "code",
   "execution_count": 3,
   "metadata": {},
   "outputs": [
    {
     "data": {
      "text/plain": [
       "'\\nConfidence:-\\n            It is conditional probability of Consequent and Antecedent. \\n            P(C|A) = P(Consequent intersection Antecedent)/P(Antecedent)\\nExample:    Suppose there are 20 transaction for consequent (sauce) and antecedent (maggi). There are total \\n            50 transaction for maggi. Then probability is 20/50\\nPoint to remember: P(C|A)!=P(A|C)            \\n'"
      ]
     },
     "execution_count": 3,
     "metadata": {},
     "output_type": "execute_result"
    }
   ],
   "source": [
    "\"\"\"\n",
    "Confidence:-\n",
    "            It is conditional probability of Consequent and Antecedent. \n",
    "            P(C|A) = P(Consequent intersection Antecedent)/P(Antecedent)\n",
    "Example:    Suppose there are 20 transaction for consequent (sauce) and antecedent (maggi). There are total \n",
    "            50 transaction for maggi. Then probability is 20/50\n",
    "Point to remember: P(C|A)!=P(A|C)            \n",
    "\"\"\""
   ]
  },
  {
   "cell_type": "code",
   "execution_count": 4,
   "metadata": {},
   "outputs": [
    {
     "data": {
      "text/plain": [
       "'\\nLift Ratio:-\\n            It is diving confidence by benchmark confidence.\\n            Suppose there are 20 transaction for consequent (sauce) and antecedent (maggi). There are total \\n            50 transaction for maggi. Assuming total transactions are 100 and 30 for sauce. \\n            Then probability is 20/50 \\n            \\n            Benchmark confidence (with respect to consequence) = 30/100\\n            \\n            if confidence > Benchmark confidence it means combination sells\\n\\n'"
      ]
     },
     "execution_count": 4,
     "metadata": {},
     "output_type": "execute_result"
    }
   ],
   "source": [
    "\"\"\"\n",
    "Lift Ratio:-\n",
    "            It is diving confidence by benchmark confidence.\n",
    "            Suppose there are 20 transaction for consequent (sauce) and antecedent (maggi). There are total \n",
    "            50 transaction for maggi. Assuming total transactions are 100 and 30 for sauce. \n",
    "            Then probability is 20/50 \n",
    "            \n",
    "            Benchmark confidence (with respect to consequence) = 30/100\n",
    "            \n",
    "            if confidence > Benchmark confidence it means combination sells\n",
    "\n",
    "\"\"\""
   ]
  },
  {
   "cell_type": "code",
   "execution_count": 5,
   "metadata": {},
   "outputs": [
    {
     "name": "stdout",
     "output_type": "stream",
     "text": [
      "Confidence is 0.4\n",
      "Benchmark confidence is 0.3\n"
     ]
    }
   ],
   "source": [
    "# let us create a small code to find the lift ratio\n",
    "# consequent (sauce) and antecedent (maggi)\n",
    "transaction_sauce = 30\n",
    "transaction_maggi = 50\n",
    "\n",
    "transaction_sauce_and_maggi = 20\n",
    "total_transaction = 100\n",
    "\n",
    "confidence = transaction_sauce_and_maggi/transaction_maggi\n",
    "benchmark_conf = transaction_sauce/total_transaction\n",
    "\n",
    "print(\"Confidence is {}\".format(confidence))\n",
    "print(\"Benchmark confidence is {}\".format(benchmark_conf))"
   ]
  },
  {
   "cell_type": "code",
   "execution_count": 6,
   "metadata": {},
   "outputs": [
    {
     "name": "stdout",
     "output_type": "stream",
     "text": [
      "It means combination sells more than single product\n"
     ]
    }
   ],
   "source": [
    "if confidence > benchmark_conf:\n",
    "    print(\"It means combination sells more than single product\")\n",
    "elif confidence < benchmark_conf:\n",
    "    print(\"Combination does not sell more than single product\")"
   ]
  }
 ],
 "metadata": {
  "kernelspec": {
   "display_name": "Python 3",
   "language": "python",
   "name": "python3"
  },
  "language_info": {
   "codemirror_mode": {
    "name": "ipython",
    "version": 3
   },
   "file_extension": ".py",
   "mimetype": "text/x-python",
   "name": "python",
   "nbconvert_exporter": "python",
   "pygments_lexer": "ipython3",
   "version": "3.6.12"
  }
 },
 "nbformat": 4,
 "nbformat_minor": 4
}
